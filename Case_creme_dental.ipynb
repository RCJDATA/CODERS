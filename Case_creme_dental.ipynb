{
 "cells": [
  {
   "cell_type": "markdown",
   "id": "f5fa8cf8",
   "metadata": {},
   "source": [
    "# Quantas pastas dentais são vendidas no Brasil por mês?"
   ]
  },
  {
   "cell_type": "code",
   "execution_count": null,
   "id": "0c18e338",
   "metadata": {},
   "outputs": [],
   "source": [
    "# 1o passo: buscar dados de fontes seguras e confiáveis"
   ]
  },
  {
   "cell_type": "code",
   "execution_count": null,
   "id": "cc24d686",
   "metadata": {},
   "outputs": [],
   "source": [
    "# API SIDRA IBGE PIA- Pesquisa Industrial Anual\n",
    "# https://dados.gov.br/dataset/pj-pesquisa-industrial-anual-produto/resource/67f22c64-acd1-419c-8f30-67769b22cf3d\n",
    "#PRODLIST\tDescrição\tUnidade de medida\tNCM/IPI 2019\t\"Atualização\"\n",
    "# 2063.2050\tDentifrícios (pastas de dentes; creme dental)\n",
    "\n",
    "#Dados população:\n",
    "#https://sidra.ibge.gov.br/tabela/6579#resultado\n",
    "#Dados vendas dentifrícios do IBGE\n",
    "#https://sidra.ibge.gov.br/tabela/5806#resultado\n",
    "\n",
    "\n",
    "#https://matplotlib.org/stable/tutorials/introductory/usage.html#sphx-glr-tutorials-introductory-usage-py\n",
    "\n"
   ]
  },
  {
   "cell_type": "code",
   "execution_count": 6,
   "id": "eadfa6c7",
   "metadata": {},
   "outputs": [],
   "source": [
    "import matplotlib.pyplot as plt\n",
    "import numpy as np\n",
    "import pandas as pd\n",
    "import datetime"
   ]
  },
  {
   "cell_type": "code",
   "execution_count": null,
   "id": "7899e8e2",
   "metadata": {},
   "outputs": [],
   "source": []
  },
  {
   "cell_type": "code",
   "execution_count": 49,
   "id": "d3828bb8",
   "metadata": {},
   "outputs": [
    {
     "data": {
      "text/html": [
       "<div>\n",
       "<style scoped>\n",
       "    .dataframe tbody tr th:only-of-type {\n",
       "        vertical-align: middle;\n",
       "    }\n",
       "\n",
       "    .dataframe tbody tr th {\n",
       "        vertical-align: top;\n",
       "    }\n",
       "\n",
       "    .dataframe thead th {\n",
       "        text-align: right;\n",
       "    }\n",
       "</style>\n",
       "<table border=\"1\" class=\"dataframe\">\n",
       "  <thead>\n",
       "    <tr style=\"text-align: right;\">\n",
       "      <th></th>\n",
       "      <th>Ano</th>\n",
       "      <th>População</th>\n",
       "      <th>Venda mensal (MM un)</th>\n",
       "      <th>Venda mensal (un per capita)</th>\n",
       "    </tr>\n",
       "  </thead>\n",
       "  <tbody>\n",
       "    <tr>\n",
       "      <th>0</th>\n",
       "      <td>2005</td>\n",
       "      <td>184184264</td>\n",
       "      <td>103</td>\n",
       "      <td>0.56</td>\n",
       "    </tr>\n",
       "    <tr>\n",
       "      <th>1</th>\n",
       "      <td>2013</td>\n",
       "      <td>201032714</td>\n",
       "      <td>152</td>\n",
       "      <td>0.76</td>\n",
       "    </tr>\n",
       "    <tr>\n",
       "      <th>2</th>\n",
       "      <td>2020</td>\n",
       "      <td>211755692</td>\n",
       "      <td>216</td>\n",
       "      <td>1.02</td>\n",
       "    </tr>\n",
       "  </tbody>\n",
       "</table>\n",
       "</div>"
      ],
      "text/plain": [
       "    Ano  População  Venda mensal (MM un)  Venda mensal (un per capita)\n",
       "0  2005  184184264                   103                          0.56\n",
       "1  2013  201032714                   152                          0.76\n",
       "2  2020  211755692                   216                          1.02"
      ]
     },
     "execution_count": 49,
     "metadata": {},
     "output_type": "execute_result"
    }
   ],
   "source": [
    "# Quantas pastas dentais são vendidas no Brasil por mês?\n",
    "# Dados vendas e população brasileira fonte IBGE\n",
    "#'Venda anual (kg)': [111296860, 165234657, 233489360],\n",
    "\n",
    "# Variável data \n",
    "a = datetime.datetime(2005,12,31) \n",
    "b = datetime.datetime(2013,12,31)\n",
    "c = datetime.datetime(2020,12,31)\n",
    "\n",
    "# Variavél quantidade de cremes dentais vendidos \n",
    "# Racionício: venda de  venda anual em kg tranformanda em g/mes e dividida por 90 g que é o tamanho padrão de uma unidade\n",
    "# de creme dental ou pasta de dente se preferir \n",
    "# Os valores de 2020 são estimados com base no crescimento anual de 2005 a 2013 que foi projetado proporcionalmente\n",
    "\n",
    "va = int(111296860*1000/12/90) \n",
    "vb = int(165234657*1000/12/90)\n",
    "vc = int(233489360*1000/12/90)\n",
    "\n",
    "# Dados População Brasileira\n",
    "pa = 184184264\n",
    "pb = 201032714\n",
    "pc = 211755692\n",
    "\n",
    "#Vendas per capita mês\n",
    "\n",
    "vpca = round(va/pa,2)\n",
    "vpcb = round(vb/pb,2)\n",
    "vpcc = round(vc/pc,2)\n",
    "\n",
    "df = pd.DataFrame(\n",
    "    {\n",
    "        'Ano': [a.year, b.year, c.year],\n",
    "        'População': [pa, pb, pc],\n",
    "        'Venda mensal (MM un)': [int(va/1000000), int(vb/1000000), int(vc/1000000)],\n",
    "        'Venda mensal (un per capita)': [vpca, vpcb, vpcc]\n",
    "    }\n",
    ")\n",
    "df"
   ]
  },
  {
   "cell_type": "code",
   "execution_count": 50,
   "id": "360eba9a",
   "metadata": {},
   "outputs": [
    {
     "data": {
      "image/png": "[encoded data removed]",
      "text/plain": [
       "<Figure size 432x288 with 1 Axes>"
      ]
     },
     "metadata": {
      "needs_background": "light"
     },
     "output_type": "display_data"
    }
   ],
   "source": [
    "df.plot.bar(x=\"Ano\", y='Venda mensal (un per capita)');"
   ]
  },
  {
   "cell_type": "code",
   "execution_count": null,
   "id": "2248b874",
   "metadata": {},
   "outputs": [],
   "source": []
  },
  {
   "cell_type": "code",
   "execution_count": null,
   "id": "b970cb02",
   "metadata": {},
   "outputs": [],
   "source": []
  }
 ],
 "metadata": {
  "kernelspec": {
   "display_name": "Python 3 (ipykernel)",
   "language": "python",
   "name": "python3"
  },
  "language_info": {
   "codemirror_mode": {
    "name": "ipython",
    "version": 3
   },
   "file_extension": ".py",
   "mimetype": "text/x-python",
   "name": "python",
   "nbconvert_exporter": "python",
   "pygments_lexer": "ipython3",
   "version": "3.9.6"
  }
 },
 "nbformat": 4,
 "nbformat_minor": 5
}
